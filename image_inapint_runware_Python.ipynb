{
  "nbformat": 4,
  "nbformat_minor": 0,
  "metadata": {
    "colab": {
      "provenance": []
    },
    "kernelspec": {
      "name": "python3",
      "display_name": "Python 3"
    },
    "language_info": {
      "name": "python"
    }
  },
  "cells": [
    {
      "cell_type": "markdown",
      "source": [
        "# Image Inpainting with Runware API"
      ],
      "metadata": {
        "id": "V4zIcvOziYco"
      }
    },
    {
      "cell_type": "code",
      "execution_count": null,
      "metadata": {
        "id": "sXotr1UCb5n4"
      },
      "outputs": [],
      "source": [
        "import base64\n",
        "import requests\n",
        "import json\n",
        "from PIL import Image\n",
        "from io import BytesIO\n",
        "from google.colab import userdata"
      ]
    },
    {
      "cell_type": "code",
      "source": [
        "def image_inpainting(positive_prompt,\n",
        "                     negative_prompt,\n",
        "                     seed_image,\n",
        "                     mask_image,\n",
        "                     width=1280, height=832, # output image dimensions\n",
        "                     model=\"civitai:620368@860423\", # RealVisXL-inpainting\n",
        "                     number_results=1):\n",
        "\n",
        "    url = \"https://api.runware.ai/v1\"\n",
        "\n",
        "    # Create the payload\n",
        "    payload = [\n",
        "        {\n",
        "            \"taskType\": \"authentication\",\n",
        "            \"apiKey\": userdata.get('runware_key')\n",
        "        },\n",
        "        {\n",
        "            \"taskType\": \"imageInference\",\n",
        "            \"taskUUID\": \"39d7207a-87ef-4c93-8082-1431f9c1dc97\",\n",
        "            \"positivePrompt\": positive_prompt,\n",
        "            \"negativePrompt\": negative_prompt,\n",
        "            \"width\": width,\n",
        "            \"height\": height,\n",
        "            \"steps\": 30,\n",
        "            \"CFGScale\": 9,\n",
        "            \"seedImage\": seed_image,\n",
        "            \"maskImage\": mask_image,\n",
        "            \"model\": model,\n",
        "            \"strength\": 0.98,\n",
        "            \"numberResults\": number_results,\n",
        "            \"includeCost\": True\n",
        "        }\n",
        "    ]\n",
        "\n",
        "    # Set headers\n",
        "    headers = {\n",
        "        \"Content-Type\": \"application/json\"\n",
        "    }\n",
        "\n",
        "    # Make the POST request\n",
        "    response = requests.post(url, headers=headers, data=json.dumps(payload))\n",
        "\n",
        "    # Check if the request was successful\n",
        "    if response.status_code == 200:\n",
        "        return response.json()\n",
        "    else:\n",
        "        print(f\"Error: {response.status_code}\")\n",
        "        print(response.text)\n",
        "        return None"
      ],
      "metadata": {
        "id": "6RJS3EY0cSXu"
      },
      "execution_count": null,
      "outputs": []
    },
    {
      "cell_type": "markdown",
      "source": [
        "# Convert images to Base 64 string"
      ],
      "metadata": {
        "id": "pgFdWxrM4yZ9"
      }
    },
    {
      "cell_type": "code",
      "source": [
        "def image_to_base64(image_path):\n",
        "    with open(image_path, \"rb\") as image_file:\n",
        "        base64_string = base64.b64encode(image_file.read()).decode(\"utf-8\")\n",
        "    return base64_string"
      ],
      "metadata": {
        "id": "KBrePB5e4zd6"
      },
      "execution_count": null,
      "outputs": []
    },
    {
      "cell_type": "code",
      "source": [
        "# convert seed image to Base64 string\n",
        "seed_image_path = \"car1.jpg\"\n",
        "seed_image_base64_str = image_to_base64(seed_image_path)\n",
        "\n",
        "# convert mask image to Base64 string\n",
        "mask_image_path = \"car1_mask.jpg\"\n",
        "mask_image_base64_str = image_to_base64(mask_image_path)"
      ],
      "metadata": {
        "id": "OOT7_GqA44Su"
      },
      "execution_count": null,
      "outputs": []
    },
    {
      "cell_type": "markdown",
      "source": [
        "# Generate image with inpainting"
      ],
      "metadata": {
        "id": "uMmeoUBPmEkg"
      }
    },
    {
      "cell_type": "code",
      "source": [
        "pos_prompt = \"\"\"\n",
        "(realistic photograph of a squirrel:1.2),\n",
        "high quality, masterpiece, 8k\n",
        "\"\"\"\n",
        "\n",
        "neg_prompt = \"\"\"\n",
        "worst quality, low quality, normal quality, lowres, low details,\n",
        "oversaturated, undersaturated, overexposed, underexposed, grayscale,\n",
        "bad photo, bad photography\n",
        "\"\"\"\n",
        "\n",
        "result = image_inpainting(positive_prompt = pos_prompt,\n",
        "                          negative_prompt = neg_prompt,\n",
        "                          seed_image = seed_image_base64_str,\n",
        "                          mask_image = mask_image_base64_str)"
      ],
      "metadata": {
        "id": "v0N7mYJ-PUN0"
      },
      "execution_count": null,
      "outputs": []
    },
    {
      "cell_type": "code",
      "source": [
        "result"
      ],
      "metadata": {
        "id": "2ovKjnj9QAI1"
      },
      "execution_count": null,
      "outputs": []
    },
    {
      "cell_type": "code",
      "source": [
        "# read image from URL\n",
        "response = requests.get(result['data'][0]['imageURL'])\n",
        "output_image = Image.open(BytesIO(response.content))"
      ],
      "metadata": {
        "id": "tLakAbEgpOvM"
      },
      "execution_count": null,
      "outputs": []
    },
    {
      "cell_type": "code",
      "source": [
        "# display image\n",
        "output_image"
      ],
      "metadata": {
        "id": "8hO1CZqMpRSk"
      },
      "execution_count": null,
      "outputs": []
    }
  ]
}